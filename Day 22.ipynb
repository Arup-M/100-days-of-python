{
 "cells": [
  {
   "cell_type": "code",
   "execution_count": 23,
   "metadata": {},
   "outputs": [
    {
     "name": "stdout",
     "output_type": "stream",
     "text": [
      "85\n"
     ]
    }
   ],
   "source": [
    "import random\n",
    "mynumber=random.randint(1,100)\n",
    "print(mynumber)"
   ]
  },
  {
   "cell_type": "code",
   "execution_count": 6,
   "metadata": {},
   "outputs": [
    {
     "name": "stdout",
     "output_type": "stream",
     "text": [
      "Guess the integer :········\n",
      "Great you have guessed the number correctly!\n",
      "You have taken 1 round to guess.\n"
     ]
    }
   ],
   "source": [
    "import random\n",
    "count=1\n",
    "num=random.randint(1,10)\n",
    "while num>=0:\n",
    "        num1=int(input(\"Guess the integer :\" ))\n",
    "        if num1==num:\n",
    "            print(\"Great you have guessed the number correctly!\")\n",
    "            print(\"You have taken\",count,\"round to guess.\")\n",
    "            break\n",
    "        elif num1>=num:\n",
    "            print(\"Too high!\")\n",
    "            count=count+1\n",
    "            continue\n",
    "        else:\n",
    "            print(\"Too Low\")\n",
    "            count=count+1\n",
    "            continue"
   ]
  },
  {
   "cell_type": "code",
   "execution_count": null,
   "metadata": {},
   "outputs": [],
   "source": []
  }
 ],
 "metadata": {
  "kernelspec": {
   "display_name": "Python 3",
   "language": "python",
   "name": "python3"
  },
  "language_info": {
   "codemirror_mode": {
    "name": "ipython",
    "version": 3
   },
   "file_extension": ".py",
   "mimetype": "text/x-python",
   "name": "python",
   "nbconvert_exporter": "python",
   "pygments_lexer": "ipython3",
   "version": "3.7.10"
  }
 },
 "nbformat": 4,
 "nbformat_minor": 4
}
