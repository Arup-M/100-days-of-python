{
 "cells": [
  {
   "cell_type": "code",
   "execution_count": 7,
   "id": "d713ab2d",
   "metadata": {},
   "outputs": [
    {
     "name": "stdout",
     "output_type": "stream",
     "text": [
      "Please enter your name : joy\n"
     ]
    }
   ],
   "source": [
    "myname=input(\"Please enter your name : \")"
   ]
  },
  {
   "cell_type": "code",
   "execution_count": 8,
   "id": "855ba889",
   "metadata": {},
   "outputs": [
    {
     "name": "stdout",
     "output_type": "stream",
     "text": [
      "This place is not for you!\n"
     ]
    }
   ],
   "source": [
    "if myname==\"Arup\":\n",
    "   print(\"Hello\",myname,\"Welcome!\")\n",
    "else:\n",
    "    print(\"This place is not for you!\")"
   ]
  },
  {
   "cell_type": "code",
   "execution_count": 12,
   "id": "4a47ed8f",
   "metadata": {},
   "outputs": [
    {
     "name": "stdout",
     "output_type": "stream",
     "text": [
      "Apni ki jhule thakte valobashen?-yes\n"
     ]
    }
   ],
   "source": [
    "ans=input(\"Apni ki jhule thakte valobashen?-\")"
   ]
  },
  {
   "cell_type": "code",
   "execution_count": 13,
   "id": "55262a7d",
   "metadata": {},
   "outputs": [
    {
     "name": "stdout",
     "output_type": "stream",
     "text": [
      "Obhinondon!Apni Spiderman!\n"
     ]
    }
   ],
   "source": [
    "if ans==\"yes\":\n",
    "    print(\"Obhinondon!Apni Spiderman!\")\n",
    "if ans==\"no\":\n",
    "    print(\"apni onno kichu...\")\n",
    "if ans==\"janina\":\n",
    "   print(\"apni ekti baal\")"
   ]
  },
  {
   "cell_type": "code",
   "execution_count": null,
   "id": "9306e12f",
   "metadata": {},
   "outputs": [],
   "source": []
  }
 ],
 "metadata": {
  "kernelspec": {
   "display_name": "Python 3 (ipykernel)",
   "language": "python",
   "name": "python3"
  },
  "language_info": {
   "codemirror_mode": {
    "name": "ipython",
    "version": 3
   },
   "file_extension": ".py",
   "mimetype": "text/x-python",
   "name": "python",
   "nbconvert_exporter": "python",
   "pygments_lexer": "ipython3",
   "version": "3.11.1"
  }
 },
 "nbformat": 4,
 "nbformat_minor": 5
}
