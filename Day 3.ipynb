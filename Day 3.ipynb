{
 "cells": [
  {
   "cell_type": "code",
   "execution_count": 6,
   "id": "2bec06af",
   "metadata": {},
   "outputs": [
    {
     "name": "stdout",
     "output_type": "stream",
     "text": [
      "Enter train name > Lalgola\n"
     ]
    }
   ],
   "source": [
    "name=input(\"Enter train name> \")"
   ]
  },
  {
   "cell_type": "code",
   "execution_count": 3,
   "id": "7f9eb9a7",
   "metadata": {},
   "outputs": [
    {
     "name": "stdout",
     "output_type": "stream",
     "text": [
      "Enter platform number >2\n"
     ]
    }
   ],
   "source": [
    "platform=input(\"Enter platform number > \")"
   ]
  },
  {
   "cell_type": "code",
   "execution_count": 4,
   "id": "c992a376",
   "metadata": {},
   "outputs": [
    {
     "name": "stdout",
     "output_type": "stream",
     "text": [
      "Enter the direction > Up\n"
     ]
    }
   ],
   "source": [
    "direction=input(\"Enter the direction > \")"
   ]
  },
  {
   "cell_type": "code",
   "execution_count": 10,
   "id": "386af63a",
   "metadata": {},
   "outputs": [
    {
     "name": "stdout",
     "output_type": "stream",
     "text": [
      "Up Lalgola is coming on platform no 2\n"
     ]
    }
   ],
   "source": [
    "print(direction,name,\"is coming on platform no\",platform,)"
   ]
  },
  {
   "cell_type": "code",
   "execution_count": null,
   "id": "9a2e2395",
   "metadata": {},
   "outputs": [],
   "source": []
  }
 ],
 "metadata": {
  "kernelspec": {
   "display_name": "Python 3 (ipykernel)",
   "language": "python",
   "name": "python3"
  },
  "language_info": {
   "codemirror_mode": {
    "name": "ipython",
    "version": 3
   },
   "file_extension": ".py",
   "mimetype": "text/x-python",
   "name": "python",
   "nbconvert_exporter": "python",
   "pygments_lexer": "ipython3",
   "version": "3.11.1"
  }
 },
 "nbformat": 4,
 "nbformat_minor": 5
}
