{
 "cells": [
  {
   "cell_type": "code",
   "execution_count": 9,
   "id": "2fc00ea5",
   "metadata": {},
   "outputs": [
    {
     "name": "stdout",
     "output_type": "stream",
     "text": [
      "What is your favourite web show? : House of Cards\n"
     ]
    }
   ],
   "source": [
    "fav_web_show = input(\"What is your favourite web show? : \")"
   ]
  },
  {
   "cell_type": "code",
   "execution_count": 10,
   "id": "065e4231",
   "metadata": {},
   "outputs": [
    {
     "name": "stdout",
     "output_type": "stream",
     "text": [
      "Enter Y for Yes and N for No\n",
      "Do you like Frank Underwood? : N\n",
      "Do not want to be a person like him.\n"
     ]
    }
   ],
   "source": [
    "if (fav_web_show == \"House of Cards\"):\n",
    "    print(\"Enter Y for Yes and N for No\")\n",
    "    char=input(\"Do you like Frank Underwood? : \")\n",
    "    if(char==\"Y\"):\n",
    "        print(\"You are a person like him.\")\n",
    "    else:\n",
    "        print(\"Do not want to be a person like him.\")\n",
    "elif(fav_web_show==\"Money heist\"):\n",
    "    print(\"Enter Y for Yes and N for No\")\n",
    "    char=input(\"Do you like Berlin? : \")\n",
    "    if(char==\"Y\"):\n",
    "        print(\"Ahh!Nice!\")\n",
    "    elif(char==\"N\"):\n",
    "        explain=input(\"Why? : \")\n",
    "else:\n",
    "    print(\"You should watch!\")\n",
    "    "
   ]
  },
  {
   "cell_type": "code",
   "execution_count": null,
   "id": "2ed52dff",
   "metadata": {},
   "outputs": [],
   "source": []
  }
 ],
 "metadata": {
  "kernelspec": {
   "display_name": "Python 3 (ipykernel)",
   "language": "python",
   "name": "python3"
  },
  "language_info": {
   "codemirror_mode": {
    "name": "ipython",
    "version": 3
   },
   "file_extension": ".py",
   "mimetype": "text/x-python",
   "name": "python",
   "nbconvert_exporter": "python",
   "pygments_lexer": "ipython3",
   "version": "3.11.1"
  }
 },
 "nbformat": 4,
 "nbformat_minor": 5
}
