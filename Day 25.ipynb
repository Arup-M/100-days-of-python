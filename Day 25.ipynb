{
 "cells": [
  {
   "cell_type": "code",
   "execution_count": 9,
   "metadata": {},
   "outputs": [
    {
     "name": "stdout",
     "output_type": "stream",
     "text": [
      "2166709618\n"
     ]
    }
   ],
   "source": [
    "#subroutine has parameter called `number`\n",
    "#`number` shows how many numbers we want the pin to have\n",
    "def pinPicker(number):\n",
    "  import random\n",
    "  pin = \"\" #this is the empty string\n",
    "  for i in range(number): #for loop shows defined amount of random numbers\n",
    "    pin = pin + str(random.randint(0,9)) #we want a string of random numbers between 0-9\n",
    "  return pin\n",
    "\n",
    "pinPicker(4) #4 means we want 4 random numbers\n",
    "print(pinPicker(10))"
   ]
  },
  {
   "cell_type": "code",
   "execution_count": 12,
   "metadata": {},
   "outputs": [
    {
     "name": "stdout",
     "output_type": "stream",
     "text": [
      "Name of the character : ju\n",
      "Their health is 24\n"
     ]
    }
   ],
   "source": [
    "import random\n",
    "def rolldice(sides):\n",
    "    r=random.randint(1,sides)\n",
    "    return r\n",
    "def six_eight_sides():\n",
    "    char=input(\"Name of the character : \")\n",
    "    r1=rolldice(6)\n",
    "    r2=rolldice(8)\n",
    "    r=r1*r2\n",
    "    print(\"Their health is\",r)\n",
    "six_eight_sides()    "
   ]
  },
  {
   "cell_type": "code",
   "execution_count": null,
   "metadata": {},
   "outputs": [],
   "source": []
  }
 ],
 "metadata": {
  "kernelspec": {
   "display_name": "Python 3",
   "language": "python",
   "name": "python3"
  },
  "language_info": {
   "codemirror_mode": {
    "name": "ipython",
    "version": 3
   },
   "file_extension": ".py",
   "mimetype": "text/x-python",
   "name": "python",
   "nbconvert_exporter": "python",
   "pygments_lexer": "ipython3",
   "version": "3.7.10"
  }
 },
 "nbformat": 4,
 "nbformat_minor": 4
}
