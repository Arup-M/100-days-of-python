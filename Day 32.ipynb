{
 "cells": [
  {
   "cell_type": "code",
   "execution_count": 1,
   "metadata": {},
   "outputs": [
    {
     "name": "stdout",
     "output_type": "stream",
     "text": [
      "['lots', 'of', 'words', 'in', 'a', 'list']\n"
     ]
    }
   ],
   "source": [
    "mylist=[\"lots\",\"of\",\"words\",\"in\",\"a\",\"list\"]\n",
    "print(mylist)"
   ]
  },
  {
   "cell_type": "code",
   "execution_count": 72,
   "metadata": {},
   "outputs": [
    {
     "name": "stdout",
     "output_type": "stream",
     "text": [
      "This code prints \u001b[35m HELLO \u001b[0m in various language!\n",
      "\u001b[33m নমস্কাৰ\n"
     ]
    }
   ],
   "source": [
    "import random\n",
    "greetings=[\"হ্যালো\",\"नमस्ते\",\"ਸਤ ਸ੍ਰੀ ਅਕਾਲ\",\"নমস্কাৰ\",\"你好\",\"hello\",\"નમસ્તે\",\"שלום\",\"ನಮಸ್ಕಾರ\",\"привет\",\"hallo\",\"مرحبًا\"]\n",
    "i=random.randint(0,len(greetings)-1)\n",
    "print(\"This code prints\", \"\\033[35m\", \"HELLO\", \"\\033[0m\", \"in various language!\")\n",
    "print(\"\\033[33m\",greetings[i])"
   ]
  }
 ],
 "metadata": {
  "kernelspec": {
   "display_name": "Python 3",
   "language": "python",
   "name": "python3"
  },
  "language_info": {
   "codemirror_mode": {
    "name": "ipython",
    "version": 3
   },
   "file_extension": ".py",
   "mimetype": "text/x-python",
   "name": "python",
   "nbconvert_exporter": "python",
   "pygments_lexer": "ipython3",
   "version": "3.11.8"
  }
 },
 "nbformat": 4,
 "nbformat_minor": 2
}
