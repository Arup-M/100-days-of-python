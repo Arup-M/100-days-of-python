{
 "cells": [
  {
   "cell_type": "code",
   "execution_count": 7,
   "metadata": {},
   "outputs": [
    {
     "name": "stdout",
     "output_type": "stream",
     "text": [
      "Input a number : ········\n",
      "Please input a positive integer!\n"
     ]
    }
   ],
   "source": [
    "from getpass import getpass as input\n",
    "num=int(input(\"Input a number : \"))\n",
    "count=1\n",
    "if num<0:\n",
    "    print(\"Please input a positive integer!\")\n",
    "else:\n",
    "    while num>=0:\n",
    "        num1=int(input(\"Guess the integer :\" ))\n",
    "        if num1==num:\n",
    "            print(\"Great you have guessed the number correctly!\")\n",
    "            print(\"You have taken\",count,\"round to guess.\")\n",
    "            break\n",
    "        elif num1>=num:\n",
    "            print(\"Too high!\")\n",
    "            count=count+1\n",
    "            continue\n",
    "        else:\n",
    "            print(\"Too Low\")\n",
    "            count=count+1\n",
    "            continue"
   ]
  },
  {
   "cell_type": "code",
   "execution_count": null,
   "metadata": {},
   "outputs": [],
   "source": []
  },
  {
   "cell_type": "code",
   "execution_count": null,
   "metadata": {},
   "outputs": [],
   "source": []
  }
 ],
 "metadata": {
  "kernelspec": {
   "display_name": "Python 3",
   "language": "python",
   "name": "python3"
  },
  "language_info": {
   "codemirror_mode": {
    "name": "ipython",
    "version": 3
   },
   "file_extension": ".py",
   "mimetype": "text/x-python",
   "name": "python",
   "nbconvert_exporter": "python",
   "pygments_lexer": "ipython3",
   "version": "3.7.10"
  }
 },
 "nbformat": 4,
 "nbformat_minor": 4
}
