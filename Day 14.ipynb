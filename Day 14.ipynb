{
 "cells": [
  {
   "cell_type": "code",
   "execution_count": 4,
   "id": "16bb59ad",
   "metadata": {},
   "outputs": [],
   "source": [
    "from getpass import getpass as input"
   ]
  },
  {
   "cell_type": "code",
   "execution_count": 5,
   "id": "9db36abd",
   "metadata": {},
   "outputs": [
    {
     "name": "stdout",
     "output_type": "stream",
     "text": [
      "Input for player 1 : ········\n",
      "Input for player 2 : ········\n",
      "Player_1's Rock is smothered by Player_2's Paper.\n"
     ]
    }
   ],
   "source": [
    "# The user has to type R, P, or S instead of the words rock, paper, scissors.\n",
    "player_1=input(\"Input for player 1 : \")\n",
    "player_2=input(\"Input for player 2 : \")\n",
    "if (player_1=='R' and player_2=='R'):\n",
    "    print(\"Player_1's Rock is broken by Player_2's Rock.\")\n",
    "elif(player_1=='R' and player_2=='P'):\n",
    "    print(\"Player_1's Rock is smothered by Player_2's Paper.\")\n",
    "elif(player_1=='R' and player_2=='S'):\n",
    "    print(\"Player_2's Scissor is sharpen by Player_1's Rock.\")"
   ]
  },
  {
   "cell_type": "code",
   "execution_count": null,
   "id": "58fd6303",
   "metadata": {},
   "outputs": [],
   "source": []
  }
 ],
 "metadata": {
  "kernelspec": {
   "display_name": "Python 3 (ipykernel)",
   "language": "python",
   "name": "python3"
  },
  "language_info": {
   "codemirror_mode": {
    "name": "ipython",
    "version": 3
   },
   "file_extension": ".py",
   "mimetype": "text/x-python",
   "name": "python",
   "nbconvert_exporter": "python",
   "pygments_lexer": "ipython3",
   "version": "3.11.1"
  }
 },
 "nbformat": 4,
 "nbformat_minor": 5
}
