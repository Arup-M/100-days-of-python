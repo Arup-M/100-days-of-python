{
 "cells": [
  {
   "cell_type": "code",
   "execution_count": 1,
   "id": "86537ab1",
   "metadata": {},
   "outputs": [
    {
     "ename": "SyntaxError",
     "evalue": "unterminated string literal (detected at line 5) (1966043869.py, line 5)",
     "output_type": "error",
     "traceback": [
      "\u001b[0;36m  Cell \u001b[0;32mIn [1], line 5\u001b[0;36m\u001b[0m\n\u001b[0;31m    print(\"How many can you answer correctly?)\u001b[0m\n\u001b[0m          ^\u001b[0m\n\u001b[0;31mSyntaxError\u001b[0m\u001b[0;31m:\u001b[0m unterminated string literal (detected at line 5)\n"
     ]
    }
   ],
   "source": [
    "# This code has to be debugged\n",
    "\n",
    "print(\"100 Days of Code QUIZ\")\n",
    "print()\n",
    "print(\"How many can you answer correctly?)\n",
    "ans1 = (\"What language are we writing in?\")\n",
    "if ans1 == \"python\":\n",
    "  print(\"Correct\")\n",
    "else:\n",
    "  print(\"Nope🙈\n",
    "ans2 = input(\"Which lesson number is this?\")\n",
    "if(ans2>12):\n",
    "print(\"We're not quite that far yet\")\n",
    "else:\n",
    "  print(\"We've gone well past that!\")\n",
    "elif(ans2==12):\n",
    "  print(\"That's right!\")"
   ]
  },
  {
   "cell_type": "code",
   "execution_count": 9,
   "id": "9b9c30fe",
   "metadata": {},
   "outputs": [
    {
     "name": "stdout",
     "output_type": "stream",
     "text": [
      "100 Days of Code QUIZ\n",
      "\n",
      "How many can you answer correctly?\n",
      "What language are we writing in?python\n",
      "Correct\n",
      "Which lesson number is this?12\n",
      "That's right!\n"
     ]
    }
   ],
   "source": [
    "# The correct code is here\n",
    "\n",
    "print(\"100 Days of Code QUIZ\")\n",
    "print()\n",
    "print(\"How many can you answer correctly?\")\n",
    "ans1 = input(\"What language are we writing in?\")\n",
    "if ans1 == \"python\":\n",
    "  print(\"Correct\")\n",
    "else:\n",
    "  print(\"Nope🙈\")\n",
    "ans2 = input(\"Which lesson number is this?\")\n",
    "if(ans2 > '12'):\n",
    "  print(\"We're not quite that far yet\")\n",
    "elif(ans2 =='12'):\n",
    "  print(\"That's right!\")\n",
    "else:\n",
    "  print(\"We've gone well past that!\")"
   ]
  },
  {
   "cell_type": "code",
   "execution_count": null,
   "id": "2278902b",
   "metadata": {},
   "outputs": [],
   "source": []
  }
 ],
 "metadata": {
  "kernelspec": {
   "display_name": "Python 3 (ipykernel)",
   "language": "python",
   "name": "python3"
  },
  "language_info": {
   "codemirror_mode": {
    "name": "ipython",
    "version": 3
   },
   "file_extension": ".py",
   "mimetype": "text/x-python",
   "name": "python",
   "nbconvert_exporter": "python",
   "pygments_lexer": "ipython3",
   "version": "3.11.1"
  }
 },
 "nbformat": 4,
 "nbformat_minor": 5
}
