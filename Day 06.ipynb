{
 "cells": [
  {
   "cell_type": "code",
   "execution_count": null,
   "id": "5adbcec3",
   "metadata": {},
   "outputs": [],
   "source": [
    "print(\"Secure Login\")\n",
    "username=input(\"Enter your username:\")\n",
    "password=input(\"Enter your password:\")\n",
    "if username==\"Arup\" and password==\"Arup@1995\":\n",
    "    print(\"Welcome\",username)\n",
    "elif username==\"Joy\" and password==\"Joy@1995\":\n",
    "    print(\"Hello\",username)\n",
    "else:\n",
    "    print(\"Invalid Username or password\")"
   ]
  }
 ],
 "metadata": {
  "kernelspec": {
   "display_name": "Python 3 (ipykernel)",
   "language": "python",
   "name": "python3"
  },
  "language_info": {
   "codemirror_mode": {
    "name": "ipython",
    "version": 3
   },
   "file_extension": ".py",
   "mimetype": "text/x-python",
   "name": "python",
   "nbconvert_exporter": "python",
   "pygments_lexer": "ipython3",
   "version": "3.11.1"
  }
 },
 "nbformat": 4,
 "nbformat_minor": 5
}
