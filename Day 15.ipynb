{
 "cells": [
  {
   "cell_type": "code",
   "execution_count": 9,
   "id": "b01a364e",
   "metadata": {},
   "outputs": [
    {
     "name": "stdout",
     "output_type": "stream",
     "text": [
      "1\n",
      "2\n",
      "3\n",
      "4\n",
      "5\n",
      "6\n",
      "7\n",
      "8\n",
      "9\n",
      "10\n",
      "11\n",
      "12\n",
      "13\n",
      "14\n",
      "15\n",
      "16\n",
      "17\n",
      "18\n",
      "19\n",
      "20\n",
      "21\n",
      "22\n",
      "23\n",
      "24\n",
      "25\n",
      "26\n",
      "27\n",
      "28\n",
      "29\n",
      "30\n",
      "31\n",
      "32\n",
      "33\n",
      "34\n",
      "35\n",
      "36\n",
      "37\n",
      "38\n",
      "39\n",
      "40\n",
      "41\n",
      "42\n",
      "43\n",
      "44\n",
      "45\n",
      "46\n",
      "47\n",
      "48\n",
      "49\n",
      "50\n",
      "51\n",
      "52\n",
      "53\n",
      "54\n",
      "55\n",
      "56\n",
      "57\n",
      "58\n",
      "59\n",
      "60\n",
      "61\n",
      "62\n",
      "63\n",
      "64\n",
      "65\n",
      "66\n",
      "67\n",
      "68\n",
      "69\n",
      "70\n",
      "71\n",
      "72\n",
      "73\n",
      "74\n",
      "75\n",
      "76\n",
      "77\n",
      "78\n",
      "79\n",
      "80\n",
      "81\n",
      "82\n",
      "83\n",
      "84\n",
      "85\n",
      "86\n",
      "87\n",
      "88\n",
      "89\n",
      "90\n",
      "91\n",
      "92\n",
      "93\n",
      "94\n",
      "95\n",
      "96\n",
      "97\n",
      "98\n",
      "99\n",
      "100\n"
     ]
    }
   ],
   "source": [
    "counter=1\n",
    "while counter<=100:\n",
    "    print(counter)\n",
    "    #counter=counter+1\n",
    "    counter+=1"
   ]
  },
  {
   "cell_type": "code",
   "execution_count": 10,
   "id": "a7c00bf4",
   "metadata": {},
   "outputs": [],
   "source": [
    "counter = 0\n",
    "while counter > 6:\n",
    "  print(counter)\n",
    "  counter += 1\n",
    "#The wrong thing here is that when the program is trying to enter in the loop, it is checking the condition under while and due to assinged value of counter the progarm is not entering to teh loop."
   ]
  },
  {
   "cell_type": "code",
   "execution_count": 12,
   "id": "828fa639",
   "metadata": {},
   "outputs": [
    {
     "name": "stdout",
     "output_type": "stream",
     "text": [
      "0\n",
      "1\n",
      "2\n",
      "3\n",
      "4\n",
      "5\n"
     ]
    }
   ],
   "source": [
    "counter = 0\n",
    "while counter < 6:\n",
    "  print(counter)\n",
    "  counter += 1"
   ]
  },
  {
   "cell_type": "code",
   "execution_count": 17,
   "id": "e95b0145",
   "metadata": {},
   "outputs": [
    {
     "name": "stdout",
     "output_type": "stream",
     "text": [
      "Exit?: no\n"
     ]
    }
   ],
   "source": [
    "exit = \"\"\n",
    "while exit == \"yes\":\n",
    "  print(\"🥳\")\n",
    "exit = input(\"Exit?: \")"
   ]
  },
  {
   "cell_type": "code",
   "execution_count": 18,
   "id": "f5fbeb8d",
   "metadata": {},
   "outputs": [
    {
     "ename": "SyntaxError",
     "evalue": "invalid syntax (2742917603.py, line 1)",
     "output_type": "error",
     "traceback": [
      "\u001b[0;36m  Cell \u001b[0;32mIn [18], line 1\u001b[0;36m\u001b[0m\n\u001b[0;31m    What animal do you want?: Cow\u001b[0m\n\u001b[0m         ^\u001b[0m\n\u001b[0;31mSyntaxError\u001b[0m\u001b[0;31m:\u001b[0m invalid syntax\n"
     ]
    }
   ],
   "source": [
    "What animal do you want?: Cow\n",
    "A cow goes moo.\n",
    "\n",
    "Do you want to exit?: no\n",
    "\n",
    "What animal do you want?: A Lesser Spotted lemur\n",
    "Ummm...the Lesser Spotter Lemur goes awooga.\n",
    "\n",
    "Do you want to exit?: yes"
   ]
  },
  {
   "cell_type": "code",
   "execution_count": 24,
   "id": "3cd9bb2b",
   "metadata": {},
   "outputs": [
    {
     "name": "stdout",
     "output_type": "stream",
     "text": [
      "Enter animal's name : cow\n",
      "cow moo\n",
      "Enter animal's name : si\n",
      "Do you want to exit?:yes\n"
     ]
    }
   ],
   "source": [
    "exit=\"No\"\n",
    "while exit==\"No\":\n",
    "    animal=input(\"Enter animal's name : \")\n",
    "    if(animal==\"Cow\" or animal==\"cow\"):\n",
    "        print(animal,\"moo\")\n",
    "    elif(animal==\"Lion\" or animal==\"lion\"):\n",
    "        print(animal,\"growl\")\n",
    "    else:\n",
    "        exit=input(\"Do you want to exit?:\")\n",
    "    "
   ]
  },
  {
   "cell_type": "code",
   "execution_count": null,
   "id": "fd15a000",
   "metadata": {},
   "outputs": [],
   "source": []
  }
 ],
 "metadata": {
  "kernelspec": {
   "display_name": "Python 3 (ipykernel)",
   "language": "python",
   "name": "python3"
  },
  "language_info": {
   "codemirror_mode": {
    "name": "ipython",
    "version": 3
   },
   "file_extension": ".py",
   "mimetype": "text/x-python",
   "name": "python",
   "nbconvert_exporter": "python",
   "pygments_lexer": "ipython3",
   "version": "3.11.1"
  }
 },
 "nbformat": 4,
 "nbformat_minor": 5
}
