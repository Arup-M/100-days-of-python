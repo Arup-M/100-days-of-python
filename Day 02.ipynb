{
 "cells": [
  {
   "cell_type": "code",
   "execution_count": 3,
   "id": "fbe97ed5",
   "metadata": {},
   "outputs": [
    {
     "name": "stdout",
     "output_type": "stream",
     "text": [
      "Getting to know you!\n",
      "What is your name?Arup\n"
     ]
    }
   ],
   "source": [
    "print(\"Getting to know you!\")\n",
    "name=input(\"What is your name?\")"
   ]
  },
  {
   "cell_type": "code",
   "execution_count": 4,
   "id": "fa5e9115",
   "metadata": {},
   "outputs": [
    {
     "name": "stdout",
     "output_type": "stream",
     "text": [
      "What is your favourite food?fish\n"
     ]
    }
   ],
   "source": [
    "food=input(\"What is your favourite food?\")"
   ]
  },
  {
   "cell_type": "code",
   "execution_count": 5,
   "id": "bff08fd9",
   "metadata": {},
   "outputs": [
    {
     "name": "stdout",
     "output_type": "stream",
     "text": [
      "Who is your favourite singer?Arijit Singh\n"
     ]
    }
   ],
   "source": [
    "music=input(\"Who is your favourite singer?\")"
   ]
  },
  {
   "cell_type": "code",
   "execution_count": 6,
   "id": "1e7001ef",
   "metadata": {},
   "outputs": [
    {
     "name": "stdout",
     "output_type": "stream",
     "text": [
      "Where do you live?Kolkata\n"
     ]
    }
   ],
   "source": [
    "live=input(\"Where do you live?\")"
   ]
  },
  {
   "cell_type": "code",
   "execution_count": 7,
   "id": "bad75e00",
   "metadata": {},
   "outputs": [
    {
     "name": "stdout",
     "output_type": "stream",
     "text": [
      "Hi \n",
      "Arup\n",
      "Glad to meet you\n",
      "Mine favourite food is also \n",
      "fish\n",
      "But \n",
      "Arijit Singh\n",
      "is not my favourite. \n"
     ]
    }
   ],
   "source": [
    "print(\"Hi \")\n",
    "print(name)\n",
    "print(\"Glad to meet you\")\n",
    "print(\"Mine favourite food is also \")\n",
    "print(food)\n",
    "print(\"But \")\n",
    "print(music)\n",
    "print(\"is not my favourite. \")"
   ]
  }
 ],
 "metadata": {
  "kernelspec": {
   "display_name": "Python 3 (ipykernel)",
   "language": "python",
   "name": "python3"
  },
  "language_info": {
   "codemirror_mode": {
    "name": "ipython",
    "version": 3
   },
   "file_extension": ".py",
   "mimetype": "text/x-python",
   "name": "python",
   "nbconvert_exporter": "python",
   "pygments_lexer": "ipython3",
   "version": "3.11.1"
  }
 },
 "nbformat": 4,
 "nbformat_minor": 5
}
