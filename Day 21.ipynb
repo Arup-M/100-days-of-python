{
 "cells": [
  {
   "cell_type": "code",
   "execution_count": 1,
   "metadata": {},
   "outputs": [
    {
     "name": "stdout",
     "output_type": "stream",
     "text": [
      "Name your multiples:2\n",
      "1 x 2 =\n",
      "2\n",
      "Correct!\n",
      "2 x 2 =\n",
      "4\n",
      "Correct!\n",
      "3 x 2 =\n",
      "6\n",
      "Correct!\n",
      "4 x 2 =\n",
      "8\n",
      "Correct!\n",
      "5 x 2 =\n",
      "10\n",
      "Correct!\n",
      "6 x 2 =\n",
      "12\n",
      "Correct!\n",
      "7 x 2 =\n",
      "14\n",
      "Correct!\n",
      "8 x 2 =\n",
      "15\n",
      "Nope. The answer was 16\n",
      "9 x 2 =\n",
      "188\n",
      "Nope. The answer was 18\n",
      "10 x 2 =\n",
      "20\n",
      "Correct!\n",
      "You scored 8 out of 10. Great job!\n"
     ]
    }
   ],
   "source": [
    "multi=int(input(\"Name your multiples:\"))\n",
    "score=0\n",
    "for i in range(1,11):\n",
    "  print(i,\"x\",multi,\"=\")\n",
    "  answer=int(input())\n",
    "  if answer==i*multi:\n",
    "    print(\"Correct!\")\n",
    "    score+=1\n",
    "  else:\n",
    "    print(\"Nope. The answer was\",i*multi)\n",
    "if score<=5:\n",
    "  print(\"You scored\",score,\"out of 10. You need to work on your multiplication skills.\")\n",
    "else:\n",
    "  print(\"You scored\",score,\"out of 10. Great job!\")"
   ]
  },
  {
   "cell_type": "code",
   "execution_count": null,
   "metadata": {},
   "outputs": [],
   "source": []
  }
 ],
 "metadata": {
  "kernelspec": {
   "display_name": "Python 3",
   "language": "python",
   "name": "python3"
  },
  "language_info": {
   "codemirror_mode": {
    "name": "ipython",
    "version": 3
   },
   "file_extension": ".py",
   "mimetype": "text/x-python",
   "name": "python",
   "nbconvert_exporter": "python",
   "pygments_lexer": "ipython3",
   "version": "3.7.10"
  }
 },
 "nbformat": 4,
 "nbformat_minor": 4
}
