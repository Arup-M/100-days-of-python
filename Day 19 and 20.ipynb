{
 "cells": [
  {
   "cell_type": "code",
   "execution_count": 19,
   "metadata": {},
   "outputs": [
    {
     "name": "stdout",
     "output_type": "stream",
     "text": [
      "10\n",
      "9\n",
      "8\n",
      "7\n",
      "6\n",
      "5\n",
      "4\n",
      "3\n",
      "2\n",
      "1\n"
     ]
    }
   ],
   "source": [
    "for counter in range(10,0,-1):\n",
    "  print(counter)"
   ]
  },
  {
   "cell_type": "code",
   "execution_count": 15,
   "metadata": {},
   "outputs": [
    {
     "name": "stdout",
     "output_type": "stream",
     "text": [
      "Day 10\n",
      "Day 9\n",
      "Day 8\n",
      "Day 7\n",
      "Day 6\n",
      "Day 5\n",
      "Day 4\n",
      "Day 3\n",
      "Day 2\n",
      "Day 1\n",
      "Day 0\n",
      "Day -1\n"
     ]
    }
   ],
   "source": [
    "for i in range(10,-2,-1):\n",
    "  print(\"Day\", i)"
   ]
  },
  {
   "cell_type": "code",
   "execution_count": null,
   "metadata": {},
   "outputs": [],
   "source": [
    "Example:\n",
    "Start at: 200\n",
    "End before: 300\n",
    "Increment between values: 20\n",
    "\n",
    "200\n",
    "220\n",
    "240\n",
    "260\n",
    "280"
   ]
  },
  {
   "cell_type": "code",
   "execution_count": 20,
   "metadata": {},
   "outputs": [
    {
     "name": "stdout",
     "output_type": "stream",
     "text": [
      "Make a list\n",
      "Start at : 100\n",
      "End before : 1000\n",
      "Increment : 100\n",
      "100\n",
      "200\n",
      "300\n",
      "400\n",
      "500\n",
      "600\n",
      "700\n",
      "800\n",
      "900\n"
     ]
    }
   ],
   "source": [
    "print(\"Make a list\")\n",
    "start=int(input(\"Start at : \"))\n",
    "end=int(input(\"End before : \"))\n",
    "increment=int(input(\"Increment : \"))\n",
    "for i in range(start,end,increment):\n",
    "    print(i)\n"
   ]
  },
  {
   "cell_type": "code",
   "execution_count": null,
   "metadata": {},
   "outputs": [],
   "source": []
  }
 ],
 "metadata": {
  "kernelspec": {
   "display_name": "Python 3",
   "language": "python",
   "name": "python3"
  },
  "language_info": {
   "codemirror_mode": {
    "name": "ipython",
    "version": 3
   },
   "file_extension": ".py",
   "mimetype": "text/x-python",
   "name": "python",
   "nbconvert_exporter": "python",
   "pygments_lexer": "ipython3",
   "version": "3.7.10"
  }
 },
 "nbformat": 4,
 "nbformat_minor": 4
}
