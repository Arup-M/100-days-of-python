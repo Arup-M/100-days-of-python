{
 "cells": [
  {
   "cell_type": "code",
   "execution_count": 16,
   "id": "57d78775",
   "metadata": {
    "scrolled": true
   },
   "outputs": [
    {
     "name": "stdout",
     "output_type": "stream",
     "text": [
      "Give your test name : math\n",
      "Full mark of the test : 100\n",
      "Give your score : 99\n",
      "So your score is 99.0 out of 100\n",
      "You have got 99.0 % marks.\n"
     ]
    }
   ],
   "source": [
    "test=input(\"Give your test name : \")\n",
    "f=int(input(\"Full mark of the test : \"))\n",
    "s=float(input(\"Give your score : \"))\n",
    "print(\"So your score is\",s,\"out of\",f)\n",
    "percentage=float((s/f)*100)\n",
    "print(\"You have got\",round(percentage,2),\"% marks.\")"
   ]
  },
  {
   "cell_type": "code",
   "execution_count": 22,
   "id": "cf38ff5b",
   "metadata": {},
   "outputs": [
    {
     "name": "stdout",
     "output_type": "stream",
     "text": [
      "Enter your percentage here to know your grade :87\n",
      "Your grade is A\n"
     ]
    }
   ],
   "source": [
    "p=float(input(\"Enter your percentage here to know your grade :\" ))\n",
    "if(90 <= p <= 100):\n",
    "    print(\"Your grade is A+\")\n",
    "elif(80 <=p<= 89):\n",
    "    print(\"Your grade is A\")\n",
    "elif( 70 <=p<= 79):\n",
    "    print(\"Grade is B+\")\n",
    "elif( 50 <=p<= 69):\n",
    "    print(\"Grade is B\")\n",
    "else:\n",
    "    print(\"There is no grade!\")"
   ]
  },
  {
   "cell_type": "code",
   "execution_count": null,
   "id": "c32a4666",
   "metadata": {},
   "outputs": [],
   "source": []
  }
 ],
 "metadata": {
  "kernelspec": {
   "display_name": "Python 3 (ipykernel)",
   "language": "python",
   "name": "python3"
  },
  "language_info": {
   "codemirror_mode": {
    "name": "ipython",
    "version": 3
   },
   "file_extension": ".py",
   "mimetype": "text/x-python",
   "name": "python",
   "nbconvert_exporter": "python",
   "pygments_lexer": "ipython3",
   "version": "3.11.1"
  }
 },
 "nbformat": 4,
 "nbformat_minor": 5
}
