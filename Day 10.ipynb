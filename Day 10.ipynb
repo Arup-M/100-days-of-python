{
 "cells": [
  {
   "cell_type": "code",
   "execution_count": 1,
   "id": "2d987233",
   "metadata": {},
   "outputs": [
    {
     "name": "stdout",
     "output_type": "stream",
     "text": [
      "7\n",
      "-1\n",
      "128\n",
      "10.0\n",
      "25\n",
      "3\n",
      "7\n"
     ]
    }
   ],
   "source": [
    "adding = 4 + 3\n",
    "print(adding)\n",
    "\n",
    "subtraction = 8 - 9\n",
    "print(subtraction)\n",
    "\n",
    "multiplication = 4 * 32\n",
    "print(multiplication)\n",
    "\n",
    "division = 50 / 5\n",
    "print(division)\n",
    "\n",
    "# a number raised to the power of some number\n",
    "# in this example we raise 5 to the power of 2\n",
    "squared = 5**2\n",
    "print(squared)\n",
    "\n",
    "# remainder of a division\n",
    "modulo = 15 % 4\n",
    "print(modulo)\n",
    "\n",
    "# whole number division\n",
    "divisor = 15 // 2\n",
    "print(divisor)"
   ]
  },
  {
   "cell_type": "code",
   "execution_count": 5,
   "id": "f0753f94",
   "metadata": {},
   "outputs": [
    {
     "name": "stdout",
     "output_type": "stream",
     "text": [
      "23.119999999999997\n",
      "0.5279263856195163\n",
      "100\n",
      "85\n"
     ]
    }
   ],
   "source": [
    "# Solve the following problems with my code\n",
    "# Your goal is to print the solution of all 3 calculations to the screen.\n",
    "\n",
    "# multiplication\n",
    "multiplication = 3.4 * 6.8\n",
    "print(multiplication)\n",
    "\n",
    "\n",
    "# division\n",
    "division = 2467 / 4673\n",
    "print(division)\n",
    "\n",
    "#raise 10 to the power of 2\n",
    "print(10**2)\n",
    "\n",
    "# print the remainder when 343 is divided by 4\n",
    "remainder = 343//4\n",
    "print(remainder)"
   ]
  },
  {
   "cell_type": "code",
   "execution_count": 6,
   "id": "5a25350b",
   "metadata": {},
   "outputs": [
    {
     "name": "stdout",
     "output_type": "stream",
     "text": [
      "What was the bill?: 1000.12\n",
      "How many people?: 4\n",
      "You all owe 250.03\n"
     ]
    }
   ],
   "source": [
    "myBill = float(input(\"What was the bill?: \"))\n",
    "numberOfPeople = int(input(\"How many people?: \"))\n",
    "answer = myBill / numberOfPeople\n",
    "print(\"You all owe\", answer)"
   ]
  },
  {
   "cell_type": "code",
   "execution_count": 7,
   "id": "a8be68cd",
   "metadata": {},
   "outputs": [],
   "source": [
    "answer=round(answer,1)"
   ]
  },
  {
   "cell_type": "code",
   "execution_count": 8,
   "id": "98421bfa",
   "metadata": {},
   "outputs": [
    {
     "name": "stdout",
     "output_type": "stream",
     "text": [
      "250.0\n"
     ]
    }
   ],
   "source": [
    "print(answer)"
   ]
  },
  {
   "cell_type": "code",
   "execution_count": null,
   "id": "73c41b9e",
   "metadata": {},
   "outputs": [],
   "source": []
  }
 ],
 "metadata": {
  "kernelspec": {
   "display_name": "Python 3 (ipykernel)",
   "language": "python",
   "name": "python3"
  },
  "language_info": {
   "codemirror_mode": {
    "name": "ipython",
    "version": 3
   },
   "file_extension": ".py",
   "mimetype": "text/x-python",
   "name": "python",
   "nbconvert_exporter": "python",
   "pygments_lexer": "ipython3",
   "version": "3.11.1"
  }
 },
 "nbformat": 4,
 "nbformat_minor": 5
}
