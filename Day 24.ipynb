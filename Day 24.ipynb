{
 "cells": [
  {
   "cell_type": "code",
   "execution_count": 1,
   "metadata": {},
   "outputs": [
    {
     "name": "stdout",
     "output_type": "stream",
     "text": [
      "How many sides? : 5\n",
      "You rolled 2\n",
      "Roll again?no\n",
      "The game is over\n"
     ]
    }
   ],
   "source": [
    "import random\n",
    "def infinitydice(sides):\n",
    "        r=random.randint(1,sides)\n",
    "        print(\"You rolled\",r)\n",
    "        ans=input(\"Roll again?\")\n",
    "        if ans==\"yes\" or ans==\"Yes\" or ans==\"Y\" or ans==\"y\":\n",
    "            infinitydice(sides)\n",
    "        else:\n",
    "            print(\"The game is over\")\n",
    "\n",
    "sides=int(input(\"How many sides? : \"))\n",
    "\n",
    "infinitydice(sides)"
   ]
  },
  {
   "cell_type": "code",
   "execution_count": null,
   "metadata": {},
   "outputs": [],
   "source": []
  }
 ],
 "metadata": {
  "kernelspec": {
   "display_name": "Python 3",
   "language": "python",
   "name": "python3"
  },
  "language_info": {
   "codemirror_mode": {
    "name": "ipython",
    "version": 3
   },
   "file_extension": ".py",
   "mimetype": "text/x-python",
   "name": "python",
   "nbconvert_exporter": "python",
   "pygments_lexer": "ipython3",
   "version": "3.7.10"
  }
 },
 "nbformat": 4,
 "nbformat_minor": 4
}
