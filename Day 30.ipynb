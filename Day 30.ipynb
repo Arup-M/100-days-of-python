{
 "cells": [
  {
   "cell_type": "code",
   "execution_count": null,
   "metadata": {},
   "outputs": [],
   "source": [
    "#f-strings (format strings) are the best way to combine variables and text together. Everything up until now has been...well...awkward.\n",
    "\n",
    "#👉 Let's look at how we have combined variables and text in the past...concatenating."
   ]
  },
  {
   "cell_type": "code",
   "execution_count": 1,
   "metadata": {},
   "outputs": [
    {
     "name": "stdout",
     "output_type": "stream",
     "text": [
      "This is Katie using she/her pronouns and is age 28\n"
     ]
    }
   ],
   "source": [
    "name = \"Katie\"\n",
    "age = \"28\"\n",
    "pronouns = \"she/her\"\n",
    "\n",
    "print(\"This is\", name, \"using\", pronouns, \"pronouns and is age\", age)"
   ]
  },
  {
   "cell_type": "code",
   "execution_count": null,
   "metadata": {},
   "outputs": [],
   "source": [
    "# Change 1: Using {} as a placeholder for the variable. Change 2: Adding .format(variable names, commas)"
   ]
  },
  {
   "cell_type": "code",
   "execution_count": 2,
   "metadata": {},
   "outputs": [
    {
     "name": "stdout",
     "output_type": "stream",
     "text": [
      "This is Katie, using she/her pronouns, and is 28 years old.\n"
     ]
    }
   ],
   "source": [
    "name = \"Katie\"\n",
    "age = \"28\"\n",
    "pronouns = \"she/her\"\n",
    "\n",
    "print(\"This is {}, using {} pronouns, and is {} years old.\".format(name, pronouns, age))"
   ]
  },
  {
   "cell_type": "code",
   "execution_count": null,
   "metadata": {},
   "outputs": [],
   "source": [
    "#We can set local variables within the f-string itself. Now it doesn't matter the order of the variables.\n",
    "\n",
    "#👉 Looking at this code again, I can set my variables inside the text itself. Watch this:"
   ]
  },
  {
   "cell_type": "code",
   "execution_count": 3,
   "metadata": {},
   "outputs": [
    {
     "name": "stdout",
     "output_type": "stream",
     "text": [
      "This is Katie, using she/her pronouns, and is 28 years old. Hello, Katie. How are you? Have you been having a great 28 years so far\n"
     ]
    }
   ],
   "source": [
    "name = \"Katie\"\n",
    "age = \"28\"\n",
    "pronouns = \"she/her\"\n",
    "\n",
    "print(\"This is {name}, using {pronouns} pronouns, and is {age} years old. Hello, {name}. How are you? Have you been having a great {age} years so far\".format(name=name, pronouns=pronouns, age=age))"
   ]
  },
  {
   "cell_type": "code",
   "execution_count": null,
   "metadata": {},
   "outputs": [],
   "source": [
    "#Change 1: Replace {}with variable names. Change 2: Replace each variable inside {} with what has been defined in format.( = )"
   ]
  },
  {
   "cell_type": "code",
   "execution_count": null,
   "metadata": {},
   "outputs": [],
   "source": [
    "#👉 We can assign concatenated sentences to variables. Watch this. We made a variable called response and made it equal to a concatenated sentence. Now I can use this response easily wherever I want."
   ]
  },
  {
   "cell_type": "code",
   "execution_count": 4,
   "metadata": {
    "scrolled": true
   },
   "outputs": [
    {
     "name": "stdout",
     "output_type": "stream",
     "text": [
      "This is Katie, using she/her pronouns, and is 28 years old. Hello, Katie. How are you? Have you been having a great 28 years so far\n"
     ]
    }
   ],
   "source": [
    "name = \"Katie\"\n",
    "age = \"28\"\n",
    "pronouns = \"she/her\"\n",
    "\n",
    "response = \"This is {name}, using {pronouns} pronouns, and is {age} years old. Hello, {name}. How are you? Have you been having a great {age} years so far\".format(name=name, pronouns=pronouns, age=age)\n",
    "\n",
    "print(response)"
   ]
  },
  {
   "cell_type": "code",
   "execution_count": null,
   "metadata": {},
   "outputs": [],
   "source": [
    "# Same code without .format"
   ]
  },
  {
   "cell_type": "code",
   "execution_count": 5,
   "metadata": {},
   "outputs": [
    {
     "name": "stdout",
     "output_type": "stream",
     "text": [
      "This is Katie, using she/her pronouns, and is 28 years old. Hello, Katie. How are you? Have you been having a great 28 years so far\n"
     ]
    }
   ],
   "source": [
    "name = \"Katie\"\n",
    "age = \"28\"\n",
    "pronouns = \"she/her\"\n",
    "\n",
    "response = f\"This is {name}, using {pronouns} pronouns, and is {age} years old. Hello, {name}. How are you? Have you been having a great {age} years so far\"\n",
    "\n",
    "print(response)"
   ]
  },
  {
   "cell_type": "code",
   "execution_count": 8,
   "metadata": {},
   "outputs": [
    {
     "name": "stdout",
     "output_type": "stream",
     "text": [
      "Day 1 of 10\n",
      "Day 2 of 10\n",
      "Day 3 of 10\n",
      "Day 4 of 10\n",
      "Day 5 of 10\n",
      "Day 6 of 10\n",
      "Day 7 of 10\n",
      "Day 8 of 10\n",
      "Day 9 of 10\n",
      "Day 10 of 10\n"
     ]
    }
   ],
   "source": [
    "for i in range(1, 11):\n",
    "  print(\"Day {i} of 10\".format(i=i))"
   ]
  },
  {
   "cell_type": "code",
   "execution_count": 11,
   "metadata": {},
   "outputs": [
    {
     "name": "stdout",
     "output_type": "stream",
     "text": [
      "Day 1 of 30\n",
      "Day 2 of 30\n",
      "Day 3 of 30\n",
      "Day 4 of 30\n",
      "Day 5 of 30\n",
      "Day 6 of 30\n",
      "Day 7 of 30\n",
      "Day 8 of 30\n",
      "Day 9 of 30\n",
      "Day 10 of 30\n",
      "Day 11 of 30\n",
      "Day 12 of 30\n",
      "Day 13 of 30\n",
      "Day 14 of 30\n",
      "Day 15 of 30\n",
      "Day 16 of 30\n",
      "Day 17 of 30\n",
      "Day 18 of 30\n",
      "Day 19 of 30\n",
      "Day 20 of 30\n",
      "Day 21 of 30\n",
      "Day 22 of 30\n",
      "Day 23 of 30\n",
      "Day 24 of 30\n",
      "Day 25 of 30\n",
      "Day 26 of 30\n",
      "Day 27 of 30\n",
      "Day 28 of 30\n",
      "Day 29 of 30\n",
      "Day 30 of 30\n"
     ]
    }
   ],
   "source": [
    "for i in range(1, 31):\n",
    "  print(f\"Day {i} of 30\")"
   ]
  },
  {
   "cell_type": "code",
   "execution_count": 12,
   "metadata": {},
   "outputs": [
    {
     "name": "stdout",
     "output_type": "stream",
     "text": [
      "Day 1  of 30\n",
      "Day 2  of 30\n",
      "Day 3  of 30\n",
      "Day 4  of 30\n",
      "Day 5  of 30\n",
      "Day 6  of 30\n",
      "Day 7  of 30\n",
      "Day 8  of 30\n",
      "Day 9  of 30\n",
      "Day 10 of 30\n",
      "Day 11 of 30\n",
      "Day 12 of 30\n",
      "Day 13 of 30\n",
      "Day 14 of 30\n",
      "Day 15 of 30\n",
      "Day 16 of 30\n",
      "Day 17 of 30\n",
      "Day 18 of 30\n",
      "Day 19 of 30\n",
      "Day 20 of 30\n",
      "Day 21 of 30\n",
      "Day 22 of 30\n",
      "Day 23 of 30\n",
      "Day 24 of 30\n",
      "Day 25 of 30\n",
      "Day 26 of 30\n",
      "Day 27 of 30\n",
      "Day 28 of 30\n",
      "Day 29 of 30\n",
      "Day 30 of 30\n"
     ]
    }
   ],
   "source": [
    "for i in range(1, 31):\n",
    "  print(f\"Day {i: <2} of 30\") #Let's fix it by adding a left alignment of 2 characters long."
   ]
  },
  {
   "cell_type": "code",
   "execution_count": 13,
   "metadata": {},
   "outputs": [
    {
     "name": "stdout",
     "output_type": "stream",
     "text": [
      "30 Days Down - What did you think?\n",
      "\n",
      "Day 1:\n",
      "nice\n",
      "\n",
      "       You thought Day 1 was       \n",
      "               nice                \n",
      "\n"
     ]
    },
    {
     "ename": "KeyboardInterrupt",
     "evalue": "Interrupted by user",
     "output_type": "error",
     "traceback": [
      "\u001b[0;31m---------------------------------------------------------------------------\u001b[0m",
      "\u001b[0;31mKeyboardInterrupt\u001b[0m                         Traceback (most recent call last)",
      "\u001b[0;32m<ipython-input-13-02166bc0c11b>\u001b[0m in \u001b[0;36m<module>\u001b[0;34m\u001b[0m\n\u001b[1;32m      2\u001b[0m \u001b[0mprint\u001b[0m\u001b[0;34m(\u001b[0m\u001b[0;34m)\u001b[0m\u001b[0;34m\u001b[0m\u001b[0;34m\u001b[0m\u001b[0m\n\u001b[1;32m      3\u001b[0m \u001b[0;32mfor\u001b[0m \u001b[0mi\u001b[0m \u001b[0;32min\u001b[0m \u001b[0mrange\u001b[0m\u001b[0;34m(\u001b[0m\u001b[0;36m1\u001b[0m\u001b[0;34m,\u001b[0m \u001b[0;36m31\u001b[0m\u001b[0;34m)\u001b[0m\u001b[0;34m:\u001b[0m\u001b[0;34m\u001b[0m\u001b[0;34m\u001b[0m\u001b[0m\n\u001b[0;32m----> 4\u001b[0;31m   \u001b[0mthought\u001b[0m \u001b[0;34m=\u001b[0m \u001b[0minput\u001b[0m\u001b[0;34m(\u001b[0m\u001b[0;34mf\"Day {i}:\\n\"\u001b[0m\u001b[0;34m)\u001b[0m\u001b[0;34m\u001b[0m\u001b[0;34m\u001b[0m\u001b[0m\n\u001b[0m\u001b[1;32m      5\u001b[0m   \u001b[0mprint\u001b[0m\u001b[0;34m(\u001b[0m\u001b[0;34m)\u001b[0m\u001b[0;34m\u001b[0m\u001b[0;34m\u001b[0m\u001b[0m\n\u001b[1;32m      6\u001b[0m   \u001b[0mmyText\u001b[0m \u001b[0;34m=\u001b[0m \u001b[0;34mf\"You thought Day {i} was\"\u001b[0m\u001b[0;34m\u001b[0m\u001b[0;34m\u001b[0m\u001b[0m\n",
      "\u001b[0;32m/opt/sagemath-9.3/local/lib/python3.7/site-packages/ipykernel/kernelbase.py\u001b[0m in \u001b[0;36mraw_input\u001b[0;34m(self, prompt)\u001b[0m\n\u001b[1;32m    861\u001b[0m             \u001b[0mself\u001b[0m\u001b[0;34m.\u001b[0m\u001b[0m_parent_ident\u001b[0m\u001b[0;34m,\u001b[0m\u001b[0;34m\u001b[0m\u001b[0;34m\u001b[0m\u001b[0m\n\u001b[1;32m    862\u001b[0m             \u001b[0mself\u001b[0m\u001b[0;34m.\u001b[0m\u001b[0m_parent_header\u001b[0m\u001b[0;34m,\u001b[0m\u001b[0;34m\u001b[0m\u001b[0;34m\u001b[0m\u001b[0m\n\u001b[0;32m--> 863\u001b[0;31m             \u001b[0mpassword\u001b[0m\u001b[0;34m=\u001b[0m\u001b[0;32mFalse\u001b[0m\u001b[0;34m,\u001b[0m\u001b[0;34m\u001b[0m\u001b[0;34m\u001b[0m\u001b[0m\n\u001b[0m\u001b[1;32m    864\u001b[0m         )\n\u001b[1;32m    865\u001b[0m \u001b[0;34m\u001b[0m\u001b[0m\n",
      "\u001b[0;32m/opt/sagemath-9.3/local/lib/python3.7/site-packages/ipykernel/kernelbase.py\u001b[0m in \u001b[0;36m_input_request\u001b[0;34m(self, prompt, ident, parent, password)\u001b[0m\n\u001b[1;32m    891\u001b[0m             \u001b[0;32mexcept\u001b[0m \u001b[0mKeyboardInterrupt\u001b[0m\u001b[0;34m:\u001b[0m\u001b[0;34m\u001b[0m\u001b[0;34m\u001b[0m\u001b[0m\n\u001b[1;32m    892\u001b[0m                 \u001b[0;31m# re-raise KeyboardInterrupt, to truncate traceback\u001b[0m\u001b[0;34m\u001b[0m\u001b[0;34m\u001b[0m\u001b[0;34m\u001b[0m\u001b[0m\n\u001b[0;32m--> 893\u001b[0;31m                 \u001b[0;32mraise\u001b[0m \u001b[0mKeyboardInterrupt\u001b[0m\u001b[0;34m(\u001b[0m\u001b[0;34m\"Interrupted by user\"\u001b[0m\u001b[0;34m)\u001b[0m \u001b[0;32mfrom\u001b[0m \u001b[0;32mNone\u001b[0m\u001b[0;34m\u001b[0m\u001b[0;34m\u001b[0m\u001b[0m\n\u001b[0m\u001b[1;32m    894\u001b[0m             \u001b[0;32melse\u001b[0m\u001b[0;34m:\u001b[0m\u001b[0;34m\u001b[0m\u001b[0;34m\u001b[0m\u001b[0m\n\u001b[1;32m    895\u001b[0m                 \u001b[0;32mbreak\u001b[0m\u001b[0;34m\u001b[0m\u001b[0;34m\u001b[0m\u001b[0m\n",
      "\u001b[0;31mKeyboardInterrupt\u001b[0m: Interrupted by user"
     ]
    }
   ],
   "source": [
    "print(\"30 Days Down - What did you think?\")\n",
    "print()\n",
    "for i in range(1, 31):\n",
    "  thought = input(f\"Day {i}:\\n\")\n",
    "  print()\n",
    "  myText = f\"You thought Day {i} was\"\n",
    "  print(f\"{myText:^35}\")\n",
    "  print(f\"{thought:^35}\")\n",
    "  print()"
   ]
  },
  {
   "cell_type": "code",
   "execution_count": null,
   "metadata": {},
   "outputs": [],
   "source": []
  }
 ],
 "metadata": {
  "kernelspec": {
   "display_name": "Python 3",
   "language": "python",
   "name": "python3"
  },
  "language_info": {
   "codemirror_mode": {
    "name": "ipython",
    "version": 3
   },
   "file_extension": ".py",
   "mimetype": "text/x-python",
   "name": "python",
   "nbconvert_exporter": "python",
   "pygments_lexer": "ipython3",
   "version": "3.7.10"
  }
 },
 "nbformat": 4,
 "nbformat_minor": 4
}
