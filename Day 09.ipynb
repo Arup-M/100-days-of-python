{
 "cells": [
  {
   "cell_type": "code",
   "execution_count": 8,
   "id": "84e11e2e",
   "metadata": {},
   "outputs": [
    {
     "name": "stdout",
     "output_type": "stream",
     "text": [
      "Write your marks : 25\n"
     ]
    }
   ],
   "source": [
    "marks=input(\"Write your marks : \")"
   ]
  },
  {
   "cell_type": "code",
   "execution_count": 9,
   "id": "5832003b",
   "metadata": {},
   "outputs": [
    {
     "name": "stdout",
     "output_type": "stream",
     "text": [
      "Congrats!You are passed!\n"
     ]
    }
   ],
   "source": [
    "if(marks>='25'):\n",
    "    print(\"Congrats!You are passed!\")\n",
    "else:\n",
    "    print(\"Sorry!You have not secured the minimum marks to pass.\")"
   ]
  },
  {
   "cell_type": "code",
   "execution_count": null,
   "id": "217c4e6a",
   "metadata": {},
   "outputs": [],
   "source": []
  }
 ],
 "metadata": {
  "kernelspec": {
   "display_name": "Python 3 (ipykernel)",
   "language": "python",
   "name": "python3"
  },
  "language_info": {
   "codemirror_mode": {
    "name": "ipython",
    "version": 3
   },
   "file_extension": ".py",
   "mimetype": "text/x-python",
   "name": "python",
   "nbconvert_exporter": "python",
   "pygments_lexer": "ipython3",
   "version": "3.11.1"
  }
 },
 "nbformat": 4,
 "nbformat_minor": 5
}
